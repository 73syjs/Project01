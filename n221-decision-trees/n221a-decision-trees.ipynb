{
  "nbformat": 4,
  "nbformat_minor": 0,
  "metadata": {
    "kernelspec": {
      "display_name": "Python 3",
      "language": "python",
      "name": "python3"
    },
    "language_info": {
      "codemirror_mode": {
        "name": "ipython",
        "version": 3
      },
      "file_extension": ".py",
      "mimetype": "text/x-python",
      "name": "python",
      "nbconvert_exporter": "python",
      "pygments_lexer": "ipython3",
      "version": "3.7.7"
    },
    "colab": {
      "name": "n221a-decision-trees",
      "provenance": [],
      "collapsed_sections": []
    }
  },
  "cells": [
    {
      "cell_type": "markdown",
      "source": [
        "<img align=\"right\" src=\"https://ds-cs-images.s3.ap-northeast-2.amazonaws.com/Codestates_Fulllogo_Color.png\" width=100>\n",
        "\n",
        "## *AIB / SECTION 2 / SPRINT 2 / NOTE 1*\n",
        "\n",
        "# 📝 Assignment\n",
        "---"
      ],
      "metadata": {
        "id": "MFMvqS8sNtC0"
      }
    },
    {
      "cell_type": "markdown",
      "source": [
        "# Decision Trees(결정트리)"
      ],
      "metadata": {
        "id": "xtmUWt2ANtC3"
      }
    },
    {
      "cell_type": "markdown",
      "source": [
        "## 캐글 인클래스(InClass) Competitions\n",
        "\n",
        "### 1) 대회 참여(Join) 및 데이터셋 준비\n",
        "\n",
        "- [캐글 계정을 만드세요](https://www.kaggle.com/), 공유된 인클래스 대회 url을 통해 이동한 후 대회에 참여하세요.\n",
        "- H1N1 데이터를 훈련/검증/테스트 셋으로 나누어 준비하세요\n",
        "- **(Urclass Quiz) 훈련데이터셋을 사용해 H1N1 타겟으로 기준모델을 설정하세요. 기준모델의 정확도를 제출하세요.**\n",
        "    1. 0.24\n",
        "    2. 0.50\n",
        "    3. 0.76\n",
        "    4. 1\n"
      ],
      "metadata": {
        "id": "bxkLmvbENtC4"
      }
    },
    {
      "cell_type": "code",
      "execution_count": 4,
      "source": [
        "import pandas as pd\n",
        "import numpy as np\n",
        "\n",
        "from sklearn.model_selection import train_test_split"
      ],
      "outputs": [],
      "metadata": {
        "id": "qkBRjWZUNtC5"
      }
    },
    {
      "cell_type": "code",
      "source": [
        "# 데이터 불러오기\n",
        "target = 'vacc_h1n1_f'\n",
        "\n",
        "train_url = 'https://ds-lecture-data.s3.ap-northeast-2.amazonaws.com/vacc_flu/train.csv'\n",
        "label_url = 'https://ds-lecture-data.s3.ap-northeast-2.amazonaws.com/vacc_flu/train_labels.csv'\n",
        "test_url = 'https://ds-lecture-data.s3.ap-northeast-2.amazonaws.com/vacc_flu/test.csv'\n",
        "\n",
        "\n",
        "train = pd.merge(pd.read_csv(train_url), pd.read_csv(label_url)[target],\n",
        "                left_index = True, right_index = True)\n",
        "test = pd.read_csv(test_url)"
      ],
      "metadata": {
        "id": "4ECgUKMHJb1t"
      },
      "execution_count": 3,
      "outputs": []
    },
    {
      "cell_type": "code",
      "source": [
        "train, val = train_test_split(train, train_size=.8, random_state=2, stratify=train[target])\n",
        "\n",
        "# stratify 파라미터는 분류 문제를 다룰 때 매우 중요하게 활용되는 파라미터 값 \n",
        "# stratify 값으로는 target 값을 지정해주면 된다.\n",
        "# stratify값을 target 값으로 지정해주면 target의 class 비율을 유지 한 채로 데이터 셋을 split 하게 된다.\n",
        "# 만약 이 옵션을 지정해주지 않고 classification 문제를 다룬다면, 성능의 차이가 많이 날 수 있다고 한다."
      ],
      "metadata": {
        "id": "VG1KeFoSMWB7"
      },
      "execution_count": 5,
      "outputs": []
    },
    {
      "cell_type": "code",
      "source": [
        "train.shape, val.shape, test.shape"
      ],
      "metadata": {
        "id": "ox7AzztfPnu-",
        "outputId": "d38003e1-761f-407c-f379-ab97b5ae4e9b",
        "colab": {
          "base_uri": "https://localhost:8080/"
        }
      },
      "execution_count": 6,
      "outputs": [
        {
          "output_type": "execute_result",
          "data": {
            "text/plain": [
              "((33723, 39), (8431, 39), (28104, 38))"
            ]
          },
          "metadata": {},
          "execution_count": 6
        }
      ]
    },
    {
      "cell_type": "code",
      "source": [
        "X_train = train.drop(target, axis=1)\n",
        "y_train = train[target]"
      ],
      "metadata": {
        "id": "Fzu6EsImTe9z"
      },
      "execution_count": 7,
      "outputs": []
    },
    {
      "cell_type": "code",
      "source": [
        "train[target].value_counts(normalize=True)"
      ],
      "metadata": {
        "id": "OX1Z-eHiRQdK",
        "outputId": "06d4e982-fcc4-41e7-ebcb-f27e54aab9e0",
        "colab": {
          "base_uri": "https://localhost:8080/"
        }
      },
      "execution_count": 8,
      "outputs": [
        {
          "output_type": "execute_result",
          "data": {
            "text/plain": [
              "0    0.760935\n",
              "1    0.239065\n",
              "Name: vacc_h1n1_f, dtype: float64"
            ]
          },
          "metadata": {},
          "execution_count": 8
        }
      ]
    },
    {
      "cell_type": "code",
      "source": [
        "# 기준모델 설정 : 분류 문제이므로 최빈값을 기준모델로 하겠음.\n",
        "from sklearn.metrics import accuracy_score\n",
        "\n",
        "# 기준모델\n",
        "baseline = train[target].mode()[0]\n",
        "\n",
        "# 예측값\n",
        "pred = [baseline] * len(train[target])\n",
        "\n",
        "# 기준모델의 정확도. 사실 train[target]의 0 비율을 봐도 되었음..\n",
        "accuracy_score(y_train, pred)"
      ],
      "metadata": {
        "id": "FIVJHNHARBSw",
        "outputId": "3fa89191-72f9-4312-bce5-e780c4091158",
        "colab": {
          "base_uri": "https://localhost:8080/"
        }
      },
      "execution_count": 9,
      "outputs": [
        {
          "output_type": "execute_result",
          "data": {
            "text/plain": [
              "0.7609346736648578"
            ]
          },
          "metadata": {},
          "execution_count": 9
        }
      ]
    },
    {
      "cell_type": "markdown",
      "source": [
        "### 2) 데이터 EDA 및 특성공학 수행\n",
        "- profiling을 사용하여 데이터를 살펴보고, missing value, zeros, cardinarity 등을 확인하여 처리하세요.\n",
        "- 본인만의 특성공학을 수행하세요.\n"
      ],
      "metadata": {
        "id": "GHoSeso3NtC6"
      }
    },
    {
      "cell_type": "code",
      "source": [
        "pip install category_encoders"
      ],
      "metadata": {
        "id": "1uiz7F9cUjMw",
        "outputId": "4afb09ba-4da1-456f-8c52-fcc078b5c51a",
        "colab": {
          "base_uri": "https://localhost:8080/"
        }
      },
      "execution_count": 10,
      "outputs": [
        {
          "output_type": "stream",
          "name": "stdout",
          "text": [
            "Requirement already satisfied: category_encoders in /usr/local/lib/python3.7/dist-packages (2.4.0)\n",
            "Requirement already satisfied: scikit-learn>=0.20.0 in /usr/local/lib/python3.7/dist-packages (from category_encoders) (1.0.2)\n",
            "Requirement already satisfied: patsy>=0.5.1 in /usr/local/lib/python3.7/dist-packages (from category_encoders) (0.5.2)\n",
            "Requirement already satisfied: scipy>=1.0.0 in /usr/local/lib/python3.7/dist-packages (from category_encoders) (1.4.1)\n",
            "Requirement already satisfied: pandas>=0.21.1 in /usr/local/lib/python3.7/dist-packages (from category_encoders) (1.3.5)\n",
            "Requirement already satisfied: statsmodels>=0.9.0 in /usr/local/lib/python3.7/dist-packages (from category_encoders) (0.10.2)\n",
            "Requirement already satisfied: numpy>=1.14.0 in /usr/local/lib/python3.7/dist-packages (from category_encoders) (1.21.6)\n",
            "Requirement already satisfied: python-dateutil>=2.7.3 in /usr/local/lib/python3.7/dist-packages (from pandas>=0.21.1->category_encoders) (2.8.2)\n",
            "Requirement already satisfied: pytz>=2017.3 in /usr/local/lib/python3.7/dist-packages (from pandas>=0.21.1->category_encoders) (2022.1)\n",
            "Requirement already satisfied: six in /usr/local/lib/python3.7/dist-packages (from patsy>=0.5.1->category_encoders) (1.15.0)\n",
            "Requirement already satisfied: joblib>=0.11 in /usr/local/lib/python3.7/dist-packages (from scikit-learn>=0.20.0->category_encoders) (1.1.0)\n",
            "Requirement already satisfied: threadpoolctl>=2.0.0 in /usr/local/lib/python3.7/dist-packages (from scikit-learn>=0.20.0->category_encoders) (3.1.0)\n"
          ]
        }
      ]
    },
    {
      "cell_type": "code",
      "execution_count": 11,
      "source": [
        "from category_encoders import OneHotEncoder\n",
        "from sklearn.impute import SimpleImputer\n",
        "from sklearn.pipeline import make_pipeline"
      ],
      "outputs": [
        {
          "output_type": "stream",
          "name": "stderr",
          "text": [
            "/usr/local/lib/python3.7/dist-packages/statsmodels/tools/_testing.py:19: FutureWarning: pandas.util.testing is deprecated. Use the functions in the public API at pandas.testing instead.\n",
            "  import pandas.util.testing as tm\n"
          ]
        }
      ],
      "metadata": {
        "id": "0NheFKIbNtC6",
        "outputId": "df881acb-c819-4b1f-8ff7-54bf66769bb9",
        "colab": {
          "base_uri": "https://localhost:8080/"
        }
      }
    },
    {
      "cell_type": "code",
      "source": [
        "train.info()"
      ],
      "metadata": {
        "id": "k97BItnqUxOs",
        "outputId": "301614f6-ceec-4e42-e24b-540a0919f78d",
        "colab": {
          "base_uri": "https://localhost:8080/"
        }
      },
      "execution_count": 12,
      "outputs": [
        {
          "output_type": "stream",
          "name": "stdout",
          "text": [
            "<class 'pandas.core.frame.DataFrame'>\n",
            "Int64Index: 33723 entries, 20365 to 30904\n",
            "Data columns (total 39 columns):\n",
            " #   Column                       Non-Null Count  Dtype  \n",
            "---  ------                       --------------  -----  \n",
            " 0   h1n1_concern                 26933 non-null  float64\n",
            " 1   h1n1_knowledge               26933 non-null  float64\n",
            " 2   behavioral_antiviral_meds    26853 non-null  float64\n",
            " 3   behavioral_avoidance         26731 non-null  float64\n",
            " 4   behavioral_face_mask         26913 non-null  float64\n",
            " 5   behavioral_wash_hands        26894 non-null  float64\n",
            " 6   behavioral_large_gatherings  26866 non-null  float64\n",
            " 7   behavioral_outside_home      26851 non-null  float64\n",
            " 8   behavioral_touch_face        26795 non-null  float64\n",
            " 9   doctor_recc_h1n1             32235 non-null  float64\n",
            " 10  doctor_recc_seasonal         32235 non-null  float64\n",
            " 11  chronic_med_condition        32648 non-null  float64\n",
            " 12  child_under_6_months         26106 non-null  float64\n",
            " 13  health_insurance             18218 non-null  float64\n",
            " 14  health_worker                26120 non-null  float64\n",
            " 15  opinion_h1n1_vacc_effective  26637 non-null  object \n",
            " 16  opinion_h1n1_risk            26602 non-null  object \n",
            " 17  opinion_h1n1_sick_from_vacc  26568 non-null  object \n",
            " 18  opinion_seas_vacc_effective  26519 non-null  object \n",
            " 19  opinion_seas_risk            26466 non-null  object \n",
            " 20  opinion_seas_sick_from_vacc  26413 non-null  object \n",
            " 21  agegrp                       33723 non-null  object \n",
            " 22  education_comp               25540 non-null  float64\n",
            " 23  raceeth4_i                   33723 non-null  int64  \n",
            " 24  sex_i                        33723 non-null  int64  \n",
            " 25  inc_pov                      33723 non-null  int64  \n",
            " 26  marital                      25524 non-null  float64\n",
            " 27  rent_own_r                   31959 non-null  float64\n",
            " 28  employment_status            25466 non-null  object \n",
            " 29  census_region                33723 non-null  int64  \n",
            " 30  census_msa                   33723 non-null  object \n",
            " 31  n_adult_r                    33482 non-null  float64\n",
            " 32  household_children           33482 non-null  float64\n",
            " 33  n_people_r                   33618 non-null  float64\n",
            " 34  employment_industry          13714 non-null  object \n",
            " 35  employment_occupation        13714 non-null  object \n",
            " 36  hhs_region                   33723 non-null  int64  \n",
            " 37  state                        33723 non-null  object \n",
            " 38  vacc_h1n1_f                  33723 non-null  int64  \n",
            "dtypes: float64(21), int64(6), object(12)\n",
            "memory usage: 10.3+ MB\n"
          ]
        }
      ]
    },
    {
      "cell_type": "code",
      "source": [
        "#결측치 확인 -> imputer 사용 예정\n",
        "train.isnull().sum()"
      ],
      "metadata": {
        "id": "4IdS_zI5Wcw_",
        "outputId": "5bd2edf5-1f23-4803-9e91-f09e43c42f3c",
        "colab": {
          "base_uri": "https://localhost:8080/"
        }
      },
      "execution_count": 13,
      "outputs": [
        {
          "output_type": "execute_result",
          "data": {
            "text/plain": [
              "h1n1_concern                    6790\n",
              "h1n1_knowledge                  6790\n",
              "behavioral_antiviral_meds       6870\n",
              "behavioral_avoidance            6992\n",
              "behavioral_face_mask            6810\n",
              "behavioral_wash_hands           6829\n",
              "behavioral_large_gatherings     6857\n",
              "behavioral_outside_home         6872\n",
              "behavioral_touch_face           6928\n",
              "doctor_recc_h1n1                1488\n",
              "doctor_recc_seasonal            1488\n",
              "chronic_med_condition           1075\n",
              "child_under_6_months            7617\n",
              "health_insurance               15505\n",
              "health_worker                   7603\n",
              "opinion_h1n1_vacc_effective     7086\n",
              "opinion_h1n1_risk               7121\n",
              "opinion_h1n1_sick_from_vacc     7155\n",
              "opinion_seas_vacc_effective     7204\n",
              "opinion_seas_risk               7257\n",
              "opinion_seas_sick_from_vacc     7310\n",
              "agegrp                             0\n",
              "education_comp                  8183\n",
              "raceeth4_i                         0\n",
              "sex_i                              0\n",
              "inc_pov                            0\n",
              "marital                         8199\n",
              "rent_own_r                      1764\n",
              "employment_status               8257\n",
              "census_region                      0\n",
              "census_msa                         0\n",
              "n_adult_r                        241\n",
              "household_children               241\n",
              "n_people_r                       105\n",
              "employment_industry            20009\n",
              "employment_occupation          20009\n",
              "hhs_region                         0\n",
              "state                              0\n",
              "vacc_h1n1_f                        0\n",
              "dtype: int64"
            ]
          },
          "metadata": {},
          "execution_count": 13
        }
      ]
    },
    {
      "cell_type": "code",
      "source": [
        "# 중복 확인 -> 없음.\n",
        "train.T.duplicated()"
      ],
      "metadata": {
        "id": "5qArCJ_ZW6xb",
        "outputId": "d1800ae8-b90c-40fe-b1f9-7f7683171b8d",
        "colab": {
          "base_uri": "https://localhost:8080/"
        }
      },
      "execution_count": 14,
      "outputs": [
        {
          "output_type": "execute_result",
          "data": {
            "text/plain": [
              "h1n1_concern                   False\n",
              "h1n1_knowledge                 False\n",
              "behavioral_antiviral_meds      False\n",
              "behavioral_avoidance           False\n",
              "behavioral_face_mask           False\n",
              "behavioral_wash_hands          False\n",
              "behavioral_large_gatherings    False\n",
              "behavioral_outside_home        False\n",
              "behavioral_touch_face          False\n",
              "doctor_recc_h1n1               False\n",
              "doctor_recc_seasonal           False\n",
              "chronic_med_condition          False\n",
              "child_under_6_months           False\n",
              "health_insurance               False\n",
              "health_worker                  False\n",
              "opinion_h1n1_vacc_effective    False\n",
              "opinion_h1n1_risk              False\n",
              "opinion_h1n1_sick_from_vacc    False\n",
              "opinion_seas_vacc_effective    False\n",
              "opinion_seas_risk              False\n",
              "opinion_seas_sick_from_vacc    False\n",
              "agegrp                         False\n",
              "education_comp                 False\n",
              "raceeth4_i                     False\n",
              "sex_i                          False\n",
              "inc_pov                        False\n",
              "marital                        False\n",
              "rent_own_r                     False\n",
              "employment_status              False\n",
              "census_region                  False\n",
              "census_msa                     False\n",
              "n_adult_r                      False\n",
              "household_children             False\n",
              "n_people_r                     False\n",
              "employment_industry            False\n",
              "employment_occupation          False\n",
              "hhs_region                     False\n",
              "state                          False\n",
              "vacc_h1n1_f                    False\n",
              "dtype: bool"
            ]
          },
          "metadata": {},
          "execution_count": 14
        }
      ]
    },
    {
      "cell_type": "code",
      "source": [
        "# target와 상관관계 확인\n",
        "train.corr().iloc[-1:].T.sort_values(by=target, ascending=False)"
      ],
      "metadata": {
        "id": "-_qHbQTxX8cI",
        "outputId": "73b7597a-46b6-4135-d44c-a09e0b1fa803",
        "colab": {
          "base_uri": "https://localhost:8080/",
          "height": 896
        }
      },
      "execution_count": 15,
      "outputs": [
        {
          "output_type": "execute_result",
          "data": {
            "text/plain": [
              "                             vacc_h1n1_f\n",
              "vacc_h1n1_f                     1.000000\n",
              "doctor_recc_h1n1                0.400660\n",
              "doctor_recc_seasonal            0.215975\n",
              "health_worker                   0.171094\n",
              "h1n1_concern                    0.118460\n",
              "h1n1_knowledge                  0.118043\n",
              "health_insurance                0.111326\n",
              "behavioral_face_mask            0.075515\n",
              "household_children              0.074052\n",
              "behavioral_wash_hands           0.071035\n",
              "chronic_med_condition           0.065454\n",
              "education_comp                  0.064437\n",
              "child_under_6_months            0.062624\n",
              "n_people_r                      0.062136\n",
              "behavioral_touch_face           0.058798\n",
              "behavioral_antiviral_meds       0.045101\n",
              "behavioral_avoidance            0.036801\n",
              "behavioral_large_gatherings     0.018546\n",
              "raceeth4_i                      0.016141\n",
              "behavioral_outside_home         0.016090\n",
              "n_adult_r                       0.014083\n",
              "sex_i                           0.004567\n",
              "hhs_region                     -0.009406\n",
              "rent_own_r                     -0.010360\n",
              "census_region                  -0.027019\n",
              "marital                        -0.042662\n",
              "inc_pov                        -0.052901"
            ],
            "text/html": [
              "\n",
              "  <div id=\"df-33546303-f1d4-4137-84bb-240e9e7ed7ff\">\n",
              "    <div class=\"colab-df-container\">\n",
              "      <div>\n",
              "<style scoped>\n",
              "    .dataframe tbody tr th:only-of-type {\n",
              "        vertical-align: middle;\n",
              "    }\n",
              "\n",
              "    .dataframe tbody tr th {\n",
              "        vertical-align: top;\n",
              "    }\n",
              "\n",
              "    .dataframe thead th {\n",
              "        text-align: right;\n",
              "    }\n",
              "</style>\n",
              "<table border=\"1\" class=\"dataframe\">\n",
              "  <thead>\n",
              "    <tr style=\"text-align: right;\">\n",
              "      <th></th>\n",
              "      <th>vacc_h1n1_f</th>\n",
              "    </tr>\n",
              "  </thead>\n",
              "  <tbody>\n",
              "    <tr>\n",
              "      <th>vacc_h1n1_f</th>\n",
              "      <td>1.000000</td>\n",
              "    </tr>\n",
              "    <tr>\n",
              "      <th>doctor_recc_h1n1</th>\n",
              "      <td>0.400660</td>\n",
              "    </tr>\n",
              "    <tr>\n",
              "      <th>doctor_recc_seasonal</th>\n",
              "      <td>0.215975</td>\n",
              "    </tr>\n",
              "    <tr>\n",
              "      <th>health_worker</th>\n",
              "      <td>0.171094</td>\n",
              "    </tr>\n",
              "    <tr>\n",
              "      <th>h1n1_concern</th>\n",
              "      <td>0.118460</td>\n",
              "    </tr>\n",
              "    <tr>\n",
              "      <th>h1n1_knowledge</th>\n",
              "      <td>0.118043</td>\n",
              "    </tr>\n",
              "    <tr>\n",
              "      <th>health_insurance</th>\n",
              "      <td>0.111326</td>\n",
              "    </tr>\n",
              "    <tr>\n",
              "      <th>behavioral_face_mask</th>\n",
              "      <td>0.075515</td>\n",
              "    </tr>\n",
              "    <tr>\n",
              "      <th>household_children</th>\n",
              "      <td>0.074052</td>\n",
              "    </tr>\n",
              "    <tr>\n",
              "      <th>behavioral_wash_hands</th>\n",
              "      <td>0.071035</td>\n",
              "    </tr>\n",
              "    <tr>\n",
              "      <th>chronic_med_condition</th>\n",
              "      <td>0.065454</td>\n",
              "    </tr>\n",
              "    <tr>\n",
              "      <th>education_comp</th>\n",
              "      <td>0.064437</td>\n",
              "    </tr>\n",
              "    <tr>\n",
              "      <th>child_under_6_months</th>\n",
              "      <td>0.062624</td>\n",
              "    </tr>\n",
              "    <tr>\n",
              "      <th>n_people_r</th>\n",
              "      <td>0.062136</td>\n",
              "    </tr>\n",
              "    <tr>\n",
              "      <th>behavioral_touch_face</th>\n",
              "      <td>0.058798</td>\n",
              "    </tr>\n",
              "    <tr>\n",
              "      <th>behavioral_antiviral_meds</th>\n",
              "      <td>0.045101</td>\n",
              "    </tr>\n",
              "    <tr>\n",
              "      <th>behavioral_avoidance</th>\n",
              "      <td>0.036801</td>\n",
              "    </tr>\n",
              "    <tr>\n",
              "      <th>behavioral_large_gatherings</th>\n",
              "      <td>0.018546</td>\n",
              "    </tr>\n",
              "    <tr>\n",
              "      <th>raceeth4_i</th>\n",
              "      <td>0.016141</td>\n",
              "    </tr>\n",
              "    <tr>\n",
              "      <th>behavioral_outside_home</th>\n",
              "      <td>0.016090</td>\n",
              "    </tr>\n",
              "    <tr>\n",
              "      <th>n_adult_r</th>\n",
              "      <td>0.014083</td>\n",
              "    </tr>\n",
              "    <tr>\n",
              "      <th>sex_i</th>\n",
              "      <td>0.004567</td>\n",
              "    </tr>\n",
              "    <tr>\n",
              "      <th>hhs_region</th>\n",
              "      <td>-0.009406</td>\n",
              "    </tr>\n",
              "    <tr>\n",
              "      <th>rent_own_r</th>\n",
              "      <td>-0.010360</td>\n",
              "    </tr>\n",
              "    <tr>\n",
              "      <th>census_region</th>\n",
              "      <td>-0.027019</td>\n",
              "    </tr>\n",
              "    <tr>\n",
              "      <th>marital</th>\n",
              "      <td>-0.042662</td>\n",
              "    </tr>\n",
              "    <tr>\n",
              "      <th>inc_pov</th>\n",
              "      <td>-0.052901</td>\n",
              "    </tr>\n",
              "  </tbody>\n",
              "</table>\n",
              "</div>\n",
              "      <button class=\"colab-df-convert\" onclick=\"convertToInteractive('df-33546303-f1d4-4137-84bb-240e9e7ed7ff')\"\n",
              "              title=\"Convert this dataframe to an interactive table.\"\n",
              "              style=\"display:none;\">\n",
              "        \n",
              "  <svg xmlns=\"http://www.w3.org/2000/svg\" height=\"24px\"viewBox=\"0 0 24 24\"\n",
              "       width=\"24px\">\n",
              "    <path d=\"M0 0h24v24H0V0z\" fill=\"none\"/>\n",
              "    <path d=\"M18.56 5.44l.94 2.06.94-2.06 2.06-.94-2.06-.94-.94-2.06-.94 2.06-2.06.94zm-11 1L8.5 8.5l.94-2.06 2.06-.94-2.06-.94L8.5 2.5l-.94 2.06-2.06.94zm10 10l.94 2.06.94-2.06 2.06-.94-2.06-.94-.94-2.06-.94 2.06-2.06.94z\"/><path d=\"M17.41 7.96l-1.37-1.37c-.4-.4-.92-.59-1.43-.59-.52 0-1.04.2-1.43.59L10.3 9.45l-7.72 7.72c-.78.78-.78 2.05 0 2.83L4 21.41c.39.39.9.59 1.41.59.51 0 1.02-.2 1.41-.59l7.78-7.78 2.81-2.81c.8-.78.8-2.07 0-2.86zM5.41 20L4 18.59l7.72-7.72 1.47 1.35L5.41 20z\"/>\n",
              "  </svg>\n",
              "      </button>\n",
              "      \n",
              "  <style>\n",
              "    .colab-df-container {\n",
              "      display:flex;\n",
              "      flex-wrap:wrap;\n",
              "      gap: 12px;\n",
              "    }\n",
              "\n",
              "    .colab-df-convert {\n",
              "      background-color: #E8F0FE;\n",
              "      border: none;\n",
              "      border-radius: 50%;\n",
              "      cursor: pointer;\n",
              "      display: none;\n",
              "      fill: #1967D2;\n",
              "      height: 32px;\n",
              "      padding: 0 0 0 0;\n",
              "      width: 32px;\n",
              "    }\n",
              "\n",
              "    .colab-df-convert:hover {\n",
              "      background-color: #E2EBFA;\n",
              "      box-shadow: 0px 1px 2px rgba(60, 64, 67, 0.3), 0px 1px 3px 1px rgba(60, 64, 67, 0.15);\n",
              "      fill: #174EA6;\n",
              "    }\n",
              "\n",
              "    [theme=dark] .colab-df-convert {\n",
              "      background-color: #3B4455;\n",
              "      fill: #D2E3FC;\n",
              "    }\n",
              "\n",
              "    [theme=dark] .colab-df-convert:hover {\n",
              "      background-color: #434B5C;\n",
              "      box-shadow: 0px 1px 3px 1px rgba(0, 0, 0, 0.15);\n",
              "      filter: drop-shadow(0px 1px 2px rgba(0, 0, 0, 0.3));\n",
              "      fill: #FFFFFF;\n",
              "    }\n",
              "  </style>\n",
              "\n",
              "      <script>\n",
              "        const buttonEl =\n",
              "          document.querySelector('#df-33546303-f1d4-4137-84bb-240e9e7ed7ff button.colab-df-convert');\n",
              "        buttonEl.style.display =\n",
              "          google.colab.kernel.accessAllowed ? 'block' : 'none';\n",
              "\n",
              "        async function convertToInteractive(key) {\n",
              "          const element = document.querySelector('#df-33546303-f1d4-4137-84bb-240e9e7ed7ff');\n",
              "          const dataTable =\n",
              "            await google.colab.kernel.invokeFunction('convertToInteractive',\n",
              "                                                     [key], {});\n",
              "          if (!dataTable) return;\n",
              "\n",
              "          const docLinkHtml = 'Like what you see? Visit the ' +\n",
              "            '<a target=\"_blank\" href=https://colab.research.google.com/notebooks/data_table.ipynb>data table notebook</a>'\n",
              "            + ' to learn more about interactive tables.';\n",
              "          element.innerHTML = '';\n",
              "          dataTable['output_type'] = 'display_data';\n",
              "          await google.colab.output.renderOutput(dataTable, element);\n",
              "          const docLink = document.createElement('div');\n",
              "          docLink.innerHTML = docLinkHtml;\n",
              "          element.appendChild(docLink);\n",
              "        }\n",
              "      </script>\n",
              "    </div>\n",
              "  </div>\n",
              "  "
            ]
          },
          "metadata": {},
          "execution_count": 15
        }
      ]
    },
    {
      "cell_type": "code",
      "source": [
        "# info 에서는 float가 많았으나, 프로파일링에서는 많지 않은 것으로 확인되므로 float type data 확인\n",
        "train.select_dtypes('float').head(10).T\n",
        "\n",
        "# float이나 수치형 자료가 아니라, 범주형임을 알 수 있음 \n",
        "# 캐글 데이터에서도 확인 가능 \n",
        "\n",
        "# 모든 이진 변수의 경우: 0 = 아니오; 1 = 예.\n",
        "\n",
        "# * h1n1_concern - H1N1 독감에 대한 우려 수준입니다.\n",
        "# * 0 = 전혀 관련되지 않음; 1 = 별로 걱정하지 않음; 2 = 다소 우려됨; 3 = 매우 우려함.\n",
        "\n",
        "# * h1n1_knowledge - H1N1 독감에 대한 지식 수준입니다.\n",
        "# * 0 = 지식 없음; 1 = 약간의 지식; 2 = 많은 지식.\n"
      ],
      "metadata": {
        "id": "KozFDv2xbXg4",
        "outputId": "e8f383a4-244c-42d3-e374-e0a223d375cc",
        "colab": {
          "base_uri": "https://localhost:8080/",
          "height": 708
        }
      },
      "execution_count": 16,
      "outputs": [
        {
          "output_type": "execute_result",
          "data": {
            "text/plain": [
              "                             20365  29138  36128  39793  32973  31450  17541  \\\n",
              "h1n1_concern                   1.0    1.0    2.0    2.0    0.0    0.0    3.0   \n",
              "h1n1_knowledge                 1.0    1.0    2.0    1.0    1.0    1.0    0.0   \n",
              "behavioral_antiviral_meds      0.0    0.0    0.0    0.0    0.0    0.0    0.0   \n",
              "behavioral_avoidance           0.0    1.0    1.0    1.0    0.0    1.0    0.0   \n",
              "behavioral_face_mask           0.0    0.0    0.0    0.0    0.0    0.0    0.0   \n",
              "behavioral_wash_hands          0.0    1.0    1.0    1.0    0.0    1.0    1.0   \n",
              "behavioral_large_gatherings    0.0    1.0    1.0    0.0    0.0    0.0    0.0   \n",
              "behavioral_outside_home        0.0    1.0    1.0    0.0    0.0    1.0    0.0   \n",
              "behavioral_touch_face          0.0    1.0    0.0    1.0    0.0    1.0    0.0   \n",
              "doctor_recc_h1n1               0.0    1.0    0.0    0.0    0.0    0.0    0.0   \n",
              "doctor_recc_seasonal           0.0    1.0    0.0    0.0    0.0    0.0    1.0   \n",
              "chronic_med_condition          1.0    0.0    1.0    0.0    0.0    0.0    1.0   \n",
              "child_under_6_months           0.0    0.0    0.0    0.0    0.0    0.0    1.0   \n",
              "health_insurance               NaN    1.0    1.0    1.0    NaN    NaN    1.0   \n",
              "health_worker                  0.0    0.0    0.0    0.0    0.0    0.0    0.0   \n",
              "education_comp                 4.0    2.0    1.0    4.0    4.0    2.0    3.0   \n",
              "marital                        2.0    2.0    2.0    1.0    1.0    2.0    1.0   \n",
              "rent_own_r                     1.0    2.0    1.0    1.0    1.0    1.0    2.0   \n",
              "n_adult_r                      4.0    2.0    1.0    2.0    2.0    1.0    3.0   \n",
              "household_children             0.0    2.0    0.0    0.0    3.0    2.0    0.0   \n",
              "n_people_r                     4.0    4.0    1.0    2.0    5.0    3.0    3.0   \n",
              "\n",
              "                             33946  5300   34292  \n",
              "h1n1_concern                   2.0    2.0    3.0  \n",
              "h1n1_knowledge                 2.0    2.0    0.0  \n",
              "behavioral_antiviral_meds      0.0    0.0    0.0  \n",
              "behavioral_avoidance           0.0    1.0    1.0  \n",
              "behavioral_face_mask           0.0    0.0    0.0  \n",
              "behavioral_wash_hands          1.0    1.0    0.0  \n",
              "behavioral_large_gatherings    0.0    1.0    0.0  \n",
              "behavioral_outside_home        0.0    1.0    0.0  \n",
              "behavioral_touch_face          0.0    1.0    0.0  \n",
              "doctor_recc_h1n1               0.0    0.0    NaN  \n",
              "doctor_recc_seasonal           0.0    0.0    NaN  \n",
              "chronic_med_condition          0.0    0.0    1.0  \n",
              "child_under_6_months           0.0    0.0    0.0  \n",
              "health_insurance               NaN    NaN    NaN  \n",
              "health_worker                  0.0    0.0    0.0  \n",
              "education_comp                 4.0    4.0    1.0  \n",
              "marital                        1.0    1.0    2.0  \n",
              "rent_own_r                     1.0    1.0    2.0  \n",
              "n_adult_r                      1.0    2.0    1.0  \n",
              "household_children             1.0    0.0    0.0  \n",
              "n_people_r                     2.0    2.0    1.0  "
            ],
            "text/html": [
              "\n",
              "  <div id=\"df-e67ee4b0-96c7-4eb5-a308-1b938d486335\">\n",
              "    <div class=\"colab-df-container\">\n",
              "      <div>\n",
              "<style scoped>\n",
              "    .dataframe tbody tr th:only-of-type {\n",
              "        vertical-align: middle;\n",
              "    }\n",
              "\n",
              "    .dataframe tbody tr th {\n",
              "        vertical-align: top;\n",
              "    }\n",
              "\n",
              "    .dataframe thead th {\n",
              "        text-align: right;\n",
              "    }\n",
              "</style>\n",
              "<table border=\"1\" class=\"dataframe\">\n",
              "  <thead>\n",
              "    <tr style=\"text-align: right;\">\n",
              "      <th></th>\n",
              "      <th>20365</th>\n",
              "      <th>29138</th>\n",
              "      <th>36128</th>\n",
              "      <th>39793</th>\n",
              "      <th>32973</th>\n",
              "      <th>31450</th>\n",
              "      <th>17541</th>\n",
              "      <th>33946</th>\n",
              "      <th>5300</th>\n",
              "      <th>34292</th>\n",
              "    </tr>\n",
              "  </thead>\n",
              "  <tbody>\n",
              "    <tr>\n",
              "      <th>h1n1_concern</th>\n",
              "      <td>1.0</td>\n",
              "      <td>1.0</td>\n",
              "      <td>2.0</td>\n",
              "      <td>2.0</td>\n",
              "      <td>0.0</td>\n",
              "      <td>0.0</td>\n",
              "      <td>3.0</td>\n",
              "      <td>2.0</td>\n",
              "      <td>2.0</td>\n",
              "      <td>3.0</td>\n",
              "    </tr>\n",
              "    <tr>\n",
              "      <th>h1n1_knowledge</th>\n",
              "      <td>1.0</td>\n",
              "      <td>1.0</td>\n",
              "      <td>2.0</td>\n",
              "      <td>1.0</td>\n",
              "      <td>1.0</td>\n",
              "      <td>1.0</td>\n",
              "      <td>0.0</td>\n",
              "      <td>2.0</td>\n",
              "      <td>2.0</td>\n",
              "      <td>0.0</td>\n",
              "    </tr>\n",
              "    <tr>\n",
              "      <th>behavioral_antiviral_meds</th>\n",
              "      <td>0.0</td>\n",
              "      <td>0.0</td>\n",
              "      <td>0.0</td>\n",
              "      <td>0.0</td>\n",
              "      <td>0.0</td>\n",
              "      <td>0.0</td>\n",
              "      <td>0.0</td>\n",
              "      <td>0.0</td>\n",
              "      <td>0.0</td>\n",
              "      <td>0.0</td>\n",
              "    </tr>\n",
              "    <tr>\n",
              "      <th>behavioral_avoidance</th>\n",
              "      <td>0.0</td>\n",
              "      <td>1.0</td>\n",
              "      <td>1.0</td>\n",
              "      <td>1.0</td>\n",
              "      <td>0.0</td>\n",
              "      <td>1.0</td>\n",
              "      <td>0.0</td>\n",
              "      <td>0.0</td>\n",
              "      <td>1.0</td>\n",
              "      <td>1.0</td>\n",
              "    </tr>\n",
              "    <tr>\n",
              "      <th>behavioral_face_mask</th>\n",
              "      <td>0.0</td>\n",
              "      <td>0.0</td>\n",
              "      <td>0.0</td>\n",
              "      <td>0.0</td>\n",
              "      <td>0.0</td>\n",
              "      <td>0.0</td>\n",
              "      <td>0.0</td>\n",
              "      <td>0.0</td>\n",
              "      <td>0.0</td>\n",
              "      <td>0.0</td>\n",
              "    </tr>\n",
              "    <tr>\n",
              "      <th>behavioral_wash_hands</th>\n",
              "      <td>0.0</td>\n",
              "      <td>1.0</td>\n",
              "      <td>1.0</td>\n",
              "      <td>1.0</td>\n",
              "      <td>0.0</td>\n",
              "      <td>1.0</td>\n",
              "      <td>1.0</td>\n",
              "      <td>1.0</td>\n",
              "      <td>1.0</td>\n",
              "      <td>0.0</td>\n",
              "    </tr>\n",
              "    <tr>\n",
              "      <th>behavioral_large_gatherings</th>\n",
              "      <td>0.0</td>\n",
              "      <td>1.0</td>\n",
              "      <td>1.0</td>\n",
              "      <td>0.0</td>\n",
              "      <td>0.0</td>\n",
              "      <td>0.0</td>\n",
              "      <td>0.0</td>\n",
              "      <td>0.0</td>\n",
              "      <td>1.0</td>\n",
              "      <td>0.0</td>\n",
              "    </tr>\n",
              "    <tr>\n",
              "      <th>behavioral_outside_home</th>\n",
              "      <td>0.0</td>\n",
              "      <td>1.0</td>\n",
              "      <td>1.0</td>\n",
              "      <td>0.0</td>\n",
              "      <td>0.0</td>\n",
              "      <td>1.0</td>\n",
              "      <td>0.0</td>\n",
              "      <td>0.0</td>\n",
              "      <td>1.0</td>\n",
              "      <td>0.0</td>\n",
              "    </tr>\n",
              "    <tr>\n",
              "      <th>behavioral_touch_face</th>\n",
              "      <td>0.0</td>\n",
              "      <td>1.0</td>\n",
              "      <td>0.0</td>\n",
              "      <td>1.0</td>\n",
              "      <td>0.0</td>\n",
              "      <td>1.0</td>\n",
              "      <td>0.0</td>\n",
              "      <td>0.0</td>\n",
              "      <td>1.0</td>\n",
              "      <td>0.0</td>\n",
              "    </tr>\n",
              "    <tr>\n",
              "      <th>doctor_recc_h1n1</th>\n",
              "      <td>0.0</td>\n",
              "      <td>1.0</td>\n",
              "      <td>0.0</td>\n",
              "      <td>0.0</td>\n",
              "      <td>0.0</td>\n",
              "      <td>0.0</td>\n",
              "      <td>0.0</td>\n",
              "      <td>0.0</td>\n",
              "      <td>0.0</td>\n",
              "      <td>NaN</td>\n",
              "    </tr>\n",
              "    <tr>\n",
              "      <th>doctor_recc_seasonal</th>\n",
              "      <td>0.0</td>\n",
              "      <td>1.0</td>\n",
              "      <td>0.0</td>\n",
              "      <td>0.0</td>\n",
              "      <td>0.0</td>\n",
              "      <td>0.0</td>\n",
              "      <td>1.0</td>\n",
              "      <td>0.0</td>\n",
              "      <td>0.0</td>\n",
              "      <td>NaN</td>\n",
              "    </tr>\n",
              "    <tr>\n",
              "      <th>chronic_med_condition</th>\n",
              "      <td>1.0</td>\n",
              "      <td>0.0</td>\n",
              "      <td>1.0</td>\n",
              "      <td>0.0</td>\n",
              "      <td>0.0</td>\n",
              "      <td>0.0</td>\n",
              "      <td>1.0</td>\n",
              "      <td>0.0</td>\n",
              "      <td>0.0</td>\n",
              "      <td>1.0</td>\n",
              "    </tr>\n",
              "    <tr>\n",
              "      <th>child_under_6_months</th>\n",
              "      <td>0.0</td>\n",
              "      <td>0.0</td>\n",
              "      <td>0.0</td>\n",
              "      <td>0.0</td>\n",
              "      <td>0.0</td>\n",
              "      <td>0.0</td>\n",
              "      <td>1.0</td>\n",
              "      <td>0.0</td>\n",
              "      <td>0.0</td>\n",
              "      <td>0.0</td>\n",
              "    </tr>\n",
              "    <tr>\n",
              "      <th>health_insurance</th>\n",
              "      <td>NaN</td>\n",
              "      <td>1.0</td>\n",
              "      <td>1.0</td>\n",
              "      <td>1.0</td>\n",
              "      <td>NaN</td>\n",
              "      <td>NaN</td>\n",
              "      <td>1.0</td>\n",
              "      <td>NaN</td>\n",
              "      <td>NaN</td>\n",
              "      <td>NaN</td>\n",
              "    </tr>\n",
              "    <tr>\n",
              "      <th>health_worker</th>\n",
              "      <td>0.0</td>\n",
              "      <td>0.0</td>\n",
              "      <td>0.0</td>\n",
              "      <td>0.0</td>\n",
              "      <td>0.0</td>\n",
              "      <td>0.0</td>\n",
              "      <td>0.0</td>\n",
              "      <td>0.0</td>\n",
              "      <td>0.0</td>\n",
              "      <td>0.0</td>\n",
              "    </tr>\n",
              "    <tr>\n",
              "      <th>education_comp</th>\n",
              "      <td>4.0</td>\n",
              "      <td>2.0</td>\n",
              "      <td>1.0</td>\n",
              "      <td>4.0</td>\n",
              "      <td>4.0</td>\n",
              "      <td>2.0</td>\n",
              "      <td>3.0</td>\n",
              "      <td>4.0</td>\n",
              "      <td>4.0</td>\n",
              "      <td>1.0</td>\n",
              "    </tr>\n",
              "    <tr>\n",
              "      <th>marital</th>\n",
              "      <td>2.0</td>\n",
              "      <td>2.0</td>\n",
              "      <td>2.0</td>\n",
              "      <td>1.0</td>\n",
              "      <td>1.0</td>\n",
              "      <td>2.0</td>\n",
              "      <td>1.0</td>\n",
              "      <td>1.0</td>\n",
              "      <td>1.0</td>\n",
              "      <td>2.0</td>\n",
              "    </tr>\n",
              "    <tr>\n",
              "      <th>rent_own_r</th>\n",
              "      <td>1.0</td>\n",
              "      <td>2.0</td>\n",
              "      <td>1.0</td>\n",
              "      <td>1.0</td>\n",
              "      <td>1.0</td>\n",
              "      <td>1.0</td>\n",
              "      <td>2.0</td>\n",
              "      <td>1.0</td>\n",
              "      <td>1.0</td>\n",
              "      <td>2.0</td>\n",
              "    </tr>\n",
              "    <tr>\n",
              "      <th>n_adult_r</th>\n",
              "      <td>4.0</td>\n",
              "      <td>2.0</td>\n",
              "      <td>1.0</td>\n",
              "      <td>2.0</td>\n",
              "      <td>2.0</td>\n",
              "      <td>1.0</td>\n",
              "      <td>3.0</td>\n",
              "      <td>1.0</td>\n",
              "      <td>2.0</td>\n",
              "      <td>1.0</td>\n",
              "    </tr>\n",
              "    <tr>\n",
              "      <th>household_children</th>\n",
              "      <td>0.0</td>\n",
              "      <td>2.0</td>\n",
              "      <td>0.0</td>\n",
              "      <td>0.0</td>\n",
              "      <td>3.0</td>\n",
              "      <td>2.0</td>\n",
              "      <td>0.0</td>\n",
              "      <td>1.0</td>\n",
              "      <td>0.0</td>\n",
              "      <td>0.0</td>\n",
              "    </tr>\n",
              "    <tr>\n",
              "      <th>n_people_r</th>\n",
              "      <td>4.0</td>\n",
              "      <td>4.0</td>\n",
              "      <td>1.0</td>\n",
              "      <td>2.0</td>\n",
              "      <td>5.0</td>\n",
              "      <td>3.0</td>\n",
              "      <td>3.0</td>\n",
              "      <td>2.0</td>\n",
              "      <td>2.0</td>\n",
              "      <td>1.0</td>\n",
              "    </tr>\n",
              "  </tbody>\n",
              "</table>\n",
              "</div>\n",
              "      <button class=\"colab-df-convert\" onclick=\"convertToInteractive('df-e67ee4b0-96c7-4eb5-a308-1b938d486335')\"\n",
              "              title=\"Convert this dataframe to an interactive table.\"\n",
              "              style=\"display:none;\">\n",
              "        \n",
              "  <svg xmlns=\"http://www.w3.org/2000/svg\" height=\"24px\"viewBox=\"0 0 24 24\"\n",
              "       width=\"24px\">\n",
              "    <path d=\"M0 0h24v24H0V0z\" fill=\"none\"/>\n",
              "    <path d=\"M18.56 5.44l.94 2.06.94-2.06 2.06-.94-2.06-.94-.94-2.06-.94 2.06-2.06.94zm-11 1L8.5 8.5l.94-2.06 2.06-.94-2.06-.94L8.5 2.5l-.94 2.06-2.06.94zm10 10l.94 2.06.94-2.06 2.06-.94-2.06-.94-.94-2.06-.94 2.06-2.06.94z\"/><path d=\"M17.41 7.96l-1.37-1.37c-.4-.4-.92-.59-1.43-.59-.52 0-1.04.2-1.43.59L10.3 9.45l-7.72 7.72c-.78.78-.78 2.05 0 2.83L4 21.41c.39.39.9.59 1.41.59.51 0 1.02-.2 1.41-.59l7.78-7.78 2.81-2.81c.8-.78.8-2.07 0-2.86zM5.41 20L4 18.59l7.72-7.72 1.47 1.35L5.41 20z\"/>\n",
              "  </svg>\n",
              "      </button>\n",
              "      \n",
              "  <style>\n",
              "    .colab-df-container {\n",
              "      display:flex;\n",
              "      flex-wrap:wrap;\n",
              "      gap: 12px;\n",
              "    }\n",
              "\n",
              "    .colab-df-convert {\n",
              "      background-color: #E8F0FE;\n",
              "      border: none;\n",
              "      border-radius: 50%;\n",
              "      cursor: pointer;\n",
              "      display: none;\n",
              "      fill: #1967D2;\n",
              "      height: 32px;\n",
              "      padding: 0 0 0 0;\n",
              "      width: 32px;\n",
              "    }\n",
              "\n",
              "    .colab-df-convert:hover {\n",
              "      background-color: #E2EBFA;\n",
              "      box-shadow: 0px 1px 2px rgba(60, 64, 67, 0.3), 0px 1px 3px 1px rgba(60, 64, 67, 0.15);\n",
              "      fill: #174EA6;\n",
              "    }\n",
              "\n",
              "    [theme=dark] .colab-df-convert {\n",
              "      background-color: #3B4455;\n",
              "      fill: #D2E3FC;\n",
              "    }\n",
              "\n",
              "    [theme=dark] .colab-df-convert:hover {\n",
              "      background-color: #434B5C;\n",
              "      box-shadow: 0px 1px 3px 1px rgba(0, 0, 0, 0.15);\n",
              "      filter: drop-shadow(0px 1px 2px rgba(0, 0, 0, 0.3));\n",
              "      fill: #FFFFFF;\n",
              "    }\n",
              "  </style>\n",
              "\n",
              "      <script>\n",
              "        const buttonEl =\n",
              "          document.querySelector('#df-e67ee4b0-96c7-4eb5-a308-1b938d486335 button.colab-df-convert');\n",
              "        buttonEl.style.display =\n",
              "          google.colab.kernel.accessAllowed ? 'block' : 'none';\n",
              "\n",
              "        async function convertToInteractive(key) {\n",
              "          const element = document.querySelector('#df-e67ee4b0-96c7-4eb5-a308-1b938d486335');\n",
              "          const dataTable =\n",
              "            await google.colab.kernel.invokeFunction('convertToInteractive',\n",
              "                                                     [key], {});\n",
              "          if (!dataTable) return;\n",
              "\n",
              "          const docLinkHtml = 'Like what you see? Visit the ' +\n",
              "            '<a target=\"_blank\" href=https://colab.research.google.com/notebooks/data_table.ipynb>data table notebook</a>'\n",
              "            + ' to learn more about interactive tables.';\n",
              "          element.innerHTML = '';\n",
              "          dataTable['output_type'] = 'display_data';\n",
              "          await google.colab.output.renderOutput(dataTable, element);\n",
              "          const docLink = document.createElement('div');\n",
              "          docLink.innerHTML = docLinkHtml;\n",
              "          element.appendChild(docLink);\n",
              "        }\n",
              "      </script>\n",
              "    </div>\n",
              "  </div>\n",
              "  "
            ]
          },
          "metadata": {},
          "execution_count": 16
        }
      ]
    },
    {
      "cell_type": "code",
      "source": [
        "# 프로파일링에서 High cardinality가 확인되므로 범주가 많은 featrue 확인해보기\n",
        "\n",
        "train.describe(exclude='number').T.sort_values(by='unique')"
      ],
      "metadata": {
        "id": "oCzZdYBodoix",
        "outputId": "94f4a1b5-c94b-4760-e777-c32c1cdf31f2",
        "colab": {
          "base_uri": "https://localhost:8080/",
          "height": 426
        }
      },
      "execution_count": 17,
      "outputs": [
        {
          "output_type": "execute_result",
          "data": {
            "text/plain": [
              "                             count unique  \\\n",
              "employment_status            25466      3   \n",
              "census_msa                   33723      3   \n",
              "opinion_h1n1_vacc_effective  26637      6   \n",
              "opinion_h1n1_risk            26602      6   \n",
              "opinion_h1n1_sick_from_vacc  26568      6   \n",
              "opinion_seas_vacc_effective  26519      6   \n",
              "opinion_seas_risk            26466      6   \n",
              "opinion_seas_sick_from_vacc  26413      6   \n",
              "agegrp                       33723      7   \n",
              "employment_industry          13714     23   \n",
              "employment_occupation        13714     25   \n",
              "state                        33723     51   \n",
              "\n",
              "                                                                      top  \\\n",
              "employment_status                                                Employed   \n",
              "census_msa                                        MSA, Not Principle City   \n",
              "opinion_h1n1_vacc_effective                            Somewhat Effective   \n",
              "opinion_h1n1_risk                                            Somewhat Low   \n",
              "opinion_h1n1_sick_from_vacc                              Not Very Worried   \n",
              "opinion_seas_vacc_effective                            Somewhat Effective   \n",
              "opinion_seas_risk                                            Somewhat Low   \n",
              "opinion_seas_sick_from_vacc                            Not At All Worried   \n",
              "agegrp                                                          65+ Years   \n",
              "employment_industry          Health Care and Social Assistance Industries   \n",
              "employment_occupation                              Management Occupations   \n",
              "state                                                          CALIFORNIA   \n",
              "\n",
              "                              freq  \n",
              "employment_status            13722  \n",
              "census_msa                   15202  \n",
              "opinion_h1n1_vacc_effective  11710  \n",
              "opinion_h1n1_risk             9980  \n",
              "opinion_h1n1_sick_from_vacc   9229  \n",
              "opinion_seas_vacc_effective  11571  \n",
              "opinion_seas_risk             9057  \n",
              "opinion_seas_sick_from_vacc  11813  \n",
              "agegrp                        6821  \n",
              "employment_industry           2451  \n",
              "employment_occupation         1769  \n",
              "state                          829  "
            ],
            "text/html": [
              "\n",
              "  <div id=\"df-bbce981b-c4ed-4eaa-8e8f-639b1f006743\">\n",
              "    <div class=\"colab-df-container\">\n",
              "      <div>\n",
              "<style scoped>\n",
              "    .dataframe tbody tr th:only-of-type {\n",
              "        vertical-align: middle;\n",
              "    }\n",
              "\n",
              "    .dataframe tbody tr th {\n",
              "        vertical-align: top;\n",
              "    }\n",
              "\n",
              "    .dataframe thead th {\n",
              "        text-align: right;\n",
              "    }\n",
              "</style>\n",
              "<table border=\"1\" class=\"dataframe\">\n",
              "  <thead>\n",
              "    <tr style=\"text-align: right;\">\n",
              "      <th></th>\n",
              "      <th>count</th>\n",
              "      <th>unique</th>\n",
              "      <th>top</th>\n",
              "      <th>freq</th>\n",
              "    </tr>\n",
              "  </thead>\n",
              "  <tbody>\n",
              "    <tr>\n",
              "      <th>employment_status</th>\n",
              "      <td>25466</td>\n",
              "      <td>3</td>\n",
              "      <td>Employed</td>\n",
              "      <td>13722</td>\n",
              "    </tr>\n",
              "    <tr>\n",
              "      <th>census_msa</th>\n",
              "      <td>33723</td>\n",
              "      <td>3</td>\n",
              "      <td>MSA, Not Principle City</td>\n",
              "      <td>15202</td>\n",
              "    </tr>\n",
              "    <tr>\n",
              "      <th>opinion_h1n1_vacc_effective</th>\n",
              "      <td>26637</td>\n",
              "      <td>6</td>\n",
              "      <td>Somewhat Effective</td>\n",
              "      <td>11710</td>\n",
              "    </tr>\n",
              "    <tr>\n",
              "      <th>opinion_h1n1_risk</th>\n",
              "      <td>26602</td>\n",
              "      <td>6</td>\n",
              "      <td>Somewhat Low</td>\n",
              "      <td>9980</td>\n",
              "    </tr>\n",
              "    <tr>\n",
              "      <th>opinion_h1n1_sick_from_vacc</th>\n",
              "      <td>26568</td>\n",
              "      <td>6</td>\n",
              "      <td>Not Very Worried</td>\n",
              "      <td>9229</td>\n",
              "    </tr>\n",
              "    <tr>\n",
              "      <th>opinion_seas_vacc_effective</th>\n",
              "      <td>26519</td>\n",
              "      <td>6</td>\n",
              "      <td>Somewhat Effective</td>\n",
              "      <td>11571</td>\n",
              "    </tr>\n",
              "    <tr>\n",
              "      <th>opinion_seas_risk</th>\n",
              "      <td>26466</td>\n",
              "      <td>6</td>\n",
              "      <td>Somewhat Low</td>\n",
              "      <td>9057</td>\n",
              "    </tr>\n",
              "    <tr>\n",
              "      <th>opinion_seas_sick_from_vacc</th>\n",
              "      <td>26413</td>\n",
              "      <td>6</td>\n",
              "      <td>Not At All Worried</td>\n",
              "      <td>11813</td>\n",
              "    </tr>\n",
              "    <tr>\n",
              "      <th>agegrp</th>\n",
              "      <td>33723</td>\n",
              "      <td>7</td>\n",
              "      <td>65+ Years</td>\n",
              "      <td>6821</td>\n",
              "    </tr>\n",
              "    <tr>\n",
              "      <th>employment_industry</th>\n",
              "      <td>13714</td>\n",
              "      <td>23</td>\n",
              "      <td>Health Care and Social Assistance Industries</td>\n",
              "      <td>2451</td>\n",
              "    </tr>\n",
              "    <tr>\n",
              "      <th>employment_occupation</th>\n",
              "      <td>13714</td>\n",
              "      <td>25</td>\n",
              "      <td>Management Occupations</td>\n",
              "      <td>1769</td>\n",
              "    </tr>\n",
              "    <tr>\n",
              "      <th>state</th>\n",
              "      <td>33723</td>\n",
              "      <td>51</td>\n",
              "      <td>CALIFORNIA</td>\n",
              "      <td>829</td>\n",
              "    </tr>\n",
              "  </tbody>\n",
              "</table>\n",
              "</div>\n",
              "      <button class=\"colab-df-convert\" onclick=\"convertToInteractive('df-bbce981b-c4ed-4eaa-8e8f-639b1f006743')\"\n",
              "              title=\"Convert this dataframe to an interactive table.\"\n",
              "              style=\"display:none;\">\n",
              "        \n",
              "  <svg xmlns=\"http://www.w3.org/2000/svg\" height=\"24px\"viewBox=\"0 0 24 24\"\n",
              "       width=\"24px\">\n",
              "    <path d=\"M0 0h24v24H0V0z\" fill=\"none\"/>\n",
              "    <path d=\"M18.56 5.44l.94 2.06.94-2.06 2.06-.94-2.06-.94-.94-2.06-.94 2.06-2.06.94zm-11 1L8.5 8.5l.94-2.06 2.06-.94-2.06-.94L8.5 2.5l-.94 2.06-2.06.94zm10 10l.94 2.06.94-2.06 2.06-.94-2.06-.94-.94-2.06-.94 2.06-2.06.94z\"/><path d=\"M17.41 7.96l-1.37-1.37c-.4-.4-.92-.59-1.43-.59-.52 0-1.04.2-1.43.59L10.3 9.45l-7.72 7.72c-.78.78-.78 2.05 0 2.83L4 21.41c.39.39.9.59 1.41.59.51 0 1.02-.2 1.41-.59l7.78-7.78 2.81-2.81c.8-.78.8-2.07 0-2.86zM5.41 20L4 18.59l7.72-7.72 1.47 1.35L5.41 20z\"/>\n",
              "  </svg>\n",
              "      </button>\n",
              "      \n",
              "  <style>\n",
              "    .colab-df-container {\n",
              "      display:flex;\n",
              "      flex-wrap:wrap;\n",
              "      gap: 12px;\n",
              "    }\n",
              "\n",
              "    .colab-df-convert {\n",
              "      background-color: #E8F0FE;\n",
              "      border: none;\n",
              "      border-radius: 50%;\n",
              "      cursor: pointer;\n",
              "      display: none;\n",
              "      fill: #1967D2;\n",
              "      height: 32px;\n",
              "      padding: 0 0 0 0;\n",
              "      width: 32px;\n",
              "    }\n",
              "\n",
              "    .colab-df-convert:hover {\n",
              "      background-color: #E2EBFA;\n",
              "      box-shadow: 0px 1px 2px rgba(60, 64, 67, 0.3), 0px 1px 3px 1px rgba(60, 64, 67, 0.15);\n",
              "      fill: #174EA6;\n",
              "    }\n",
              "\n",
              "    [theme=dark] .colab-df-convert {\n",
              "      background-color: #3B4455;\n",
              "      fill: #D2E3FC;\n",
              "    }\n",
              "\n",
              "    [theme=dark] .colab-df-convert:hover {\n",
              "      background-color: #434B5C;\n",
              "      box-shadow: 0px 1px 3px 1px rgba(0, 0, 0, 0.15);\n",
              "      filter: drop-shadow(0px 1px 2px rgba(0, 0, 0, 0.3));\n",
              "      fill: #FFFFFF;\n",
              "    }\n",
              "  </style>\n",
              "\n",
              "      <script>\n",
              "        const buttonEl =\n",
              "          document.querySelector('#df-bbce981b-c4ed-4eaa-8e8f-639b1f006743 button.colab-df-convert');\n",
              "        buttonEl.style.display =\n",
              "          google.colab.kernel.accessAllowed ? 'block' : 'none';\n",
              "\n",
              "        async function convertToInteractive(key) {\n",
              "          const element = document.querySelector('#df-bbce981b-c4ed-4eaa-8e8f-639b1f006743');\n",
              "          const dataTable =\n",
              "            await google.colab.kernel.invokeFunction('convertToInteractive',\n",
              "                                                     [key], {});\n",
              "          if (!dataTable) return;\n",
              "\n",
              "          const docLinkHtml = 'Like what you see? Visit the ' +\n",
              "            '<a target=\"_blank\" href=https://colab.research.google.com/notebooks/data_table.ipynb>data table notebook</a>'\n",
              "            + ' to learn more about interactive tables.';\n",
              "          element.innerHTML = '';\n",
              "          dataTable['output_type'] = 'display_data';\n",
              "          await google.colab.output.renderOutput(dataTable, element);\n",
              "          const docLink = document.createElement('div');\n",
              "          docLink.innerHTML = docLinkHtml;\n",
              "          element.appendChild(docLink);\n",
              "        }\n",
              "      </script>\n",
              "    </div>\n",
              "  </div>\n",
              "  "
            ]
          },
          "metadata": {},
          "execution_count": 17
        }
      ]
    },
    {
      "cell_type": "code",
      "source": [
        "# feature engineering method\n",
        "\n",
        "def engineering(df):\n",
        "\n",
        "  # Delet high cardinality feature\n",
        "    labels = df.nunique()         # featrue 별로 cardinality 갯수\n",
        "    selected_features = labels[labels <= 30].index.tolist()    # cardinality 가 30 이하인 feature 이름들만 리스트에 담음\n",
        "    df = df[selected_features]\n",
        "\n",
        "\n",
        "  # 새로운 특성 생성\n",
        "    behaviorals = [col for col in df.columns if 'behavioral' in col]\n",
        "    df['Total_behave'] = df[behaviorals].sum(axis=1)\n",
        "    df.drop(columns=behaviorals, inplace=True)\n",
        "    \n",
        "  \n",
        "  # 계절성 백신 관련된 feature와 '고용산업, 고용직업' feature는 큰 영향을 주지 않는다고 판단하여 삭제\n",
        "    dels = [col for col in df.columns if ('employment' in col or 'seas' in col)]\n",
        "    df.drop(columns=dels, inplace=True)\n",
        "\n",
        "  # raw data를 살펴보니 feature 중에 n_people_r 은 n_adult_r + household_children 이므로 두 개의 feature는 삭제\n",
        "    df.drop(columns = ['n_adult_r', 'household_children'], axis=1, inplace=True)\n",
        "\n",
        "    return df\n",
        "    \n",
        "\n",
        "# 데이터에 적용\n",
        "train = engineering(train)\n",
        "val = engineering(val)\n",
        "test = engineering(test)"
      ],
      "metadata": {
        "id": "IqIBELsKYm1J"
      },
      "execution_count": 18,
      "outputs": []
    },
    {
      "cell_type": "code",
      "source": [
        "#columns 확인\n",
        "train.columns"
      ],
      "metadata": {
        "id": "VvVo9XAqsTLC",
        "outputId": "8ba1f469-b8af-41f0-f1f3-e37faf6202c8",
        "colab": {
          "base_uri": "https://localhost:8080/"
        }
      },
      "execution_count": 21,
      "outputs": [
        {
          "output_type": "execute_result",
          "data": {
            "text/plain": [
              "Index(['h1n1_concern', 'h1n1_knowledge', 'doctor_recc_h1n1',\n",
              "       'chronic_med_condition', 'child_under_6_months', 'health_insurance',\n",
              "       'health_worker', 'opinion_h1n1_vacc_effective', 'opinion_h1n1_risk',\n",
              "       'opinion_h1n1_sick_from_vacc', 'agegrp', 'education_comp', 'raceeth4_i',\n",
              "       'sex_i', 'inc_pov', 'marital', 'rent_own_r', 'census_region',\n",
              "       'census_msa', 'n_people_r', 'hhs_region', 'vacc_h1n1_f',\n",
              "       'Total_behave'],\n",
              "      dtype='object')"
            ]
          },
          "metadata": {},
          "execution_count": 21
        }
      ]
    },
    {
      "cell_type": "code",
      "source": [
        "# X, y로 data set split\n",
        "feature = train.drop(columns=[target]).columns\n",
        "# target = 'vacc_h1n1_f'\n",
        "\n",
        "X_train = train[feature]\n",
        "y_train = train[target]\n",
        "\n",
        "X_val = val[feature]\n",
        "y_val = val[target]\n",
        "\n",
        "X_test = test[feature]"
      ],
      "metadata": {
        "id": "cZgXlWYjnMUN"
      },
      "execution_count": 22,
      "outputs": []
    },
    {
      "cell_type": "markdown",
      "source": [
        "\n",
        "### 3) 모델링 수행\n",
        "- 결정트리를 학습시킵니다. 하이퍼파라미터를 수정하여 성능을 높여보세요. 과적합을 주의하세요!\n",
        "- 검증세트 스코어를 확인하세요.(평가지표는 F1-score입니다, 수식은 캐글 Overview-Evaluation 페이지를 확인해 주세요. 평가지표에 대한 내용은 다음에 자세히 배우고 활용할 것입니다 지금은 스코어를 올리기 위한 노력을 전혀 기울이지 말고 결정트리의 개념과 코드이해, 사용에 집중하세요!)\n",
        "- 특성중요도를 그래프로 나타내 보세요\n",
        "- **(Urclass Quiz) 검증세트의 F1-score를 제출하세요. (0.5 이상 통과)**"
      ],
      "metadata": {
        "id": "SXfChANSOLvp"
      }
    },
    {
      "cell_type": "code",
      "source": [
        "# 파이프라인 사용해서 모델 만들기\n",
        "from sklearn.tree import DecisionTreeClassifier\n",
        "\n",
        "pipe = make_pipeline(OneHotEncoder(use_cat_names=True),\n",
        "                     SimpleImputer(strategy='most_frequent'),\n",
        "#                     DecisionTreeClassifier(random_state=1, criterion='entropy') ->  결과는 완전히 과적합; \n",
        "                     DecisionTreeClassifier(max_depth=3, min_samples_leaf=5, random_state=1))\n",
        "\n",
        "# pipe에 train data 학습\n",
        "pipe.fit(X_train, y_train)\n",
        "\n",
        "# 정확도\n",
        "print('train set score :', pipe.score(X_train, y_train))\n",
        "print('validation set score :', pipe.score(X_val, y_val))"
      ],
      "metadata": {
        "id": "KddGHGeDW6Gq",
        "outputId": "b7802189-b92c-4700-a90b-05082fbcd9e1",
        "colab": {
          "base_uri": "https://localhost:8080/"
        }
      },
      "execution_count": 46,
      "outputs": [
        {
          "output_type": "stream",
          "name": "stdout",
          "text": [
            "train set score : 0.7994247249651573\n",
            "validation set score : 0.8054797770134029\n"
          ]
        }
      ]
    },
    {
      "cell_type": "code",
      "execution_count": 47,
      "source": [
        "from sklearn.metrics import f1_score\n",
        "\n",
        "pred_train = pipe.predict(X_train)\n",
        "pred_val = pipe.predict(X_val)\n",
        "\n",
        "print('train set f1_score :', f1_score(y_train, pred_train))\n",
        "print('validation set f1_score :', f1_score(y_val, pred_val))"
      ],
      "outputs": [
        {
          "output_type": "stream",
          "name": "stdout",
          "text": [
            "train set f1_score : 0.5681818181818181\n",
            "validation set f1_score : 0.5866935483870968\n"
          ]
        }
      ],
      "metadata": {
        "id": "nWw6o4G4ONPz",
        "outputId": "0a87e0d0-6f4a-40c2-d273-05cf7b1c1e25",
        "colab": {
          "base_uri": "https://localhost:8080/"
        }
      }
    },
    {
      "cell_type": "code",
      "source": [
        "# 특성 중요도 시각화\n",
        "import matplotlib.pyplot as plt\n",
        "\n",
        "model_dt = pipe.named_steps['decisiontreeclassifier']\n",
        "columns = pipe.named_steps['onehotencoder'].transform(X_val).columns\n",
        "\n",
        "importances = pd.Series(model_dt.feature_importances_, columns)\n",
        "plt.figure(figsize=(7,10))\n",
        "importances.sort_values().plot.barh();"
      ],
      "metadata": {
        "id": "FFiuA4ziyMcI",
        "outputId": "c0223d85-fc58-4b4b-91c7-08de8930850b",
        "colab": {
          "base_uri": "https://localhost:8080/",
          "height": 592
        }
      },
      "execution_count": 72,
      "outputs": [
        {
          "output_type": "display_data",
          "data": {
            "text/plain": [
              "<Figure size 504x720 with 1 Axes>"
            ],
            "image/png": "[encoded data removed]"
          },
          "metadata": {
            "needs_background": "light"
          }
        }
      ]
    },
    {
      "cell_type": "markdown",
      "source": [
        "### 4) 테스트셋 예측 결과 제출(Submission)\n",
        "\n",
        "- 테스트셋에 대한 예측 결과를 캐글에 제출 하세요.(스코어가 많이 낮게 나와도 결정트리를 잘 이해하고 결과를 내었다면 충분합니다!)\n",
        "- **(Urclass Quiz) 캐글 Leaderboard의 본인 Score를 제출하세요.**\n",
        " "
      ],
      "metadata": {
        "id": "mL7YOdyaNtC7"
      }
    },
    {
      "cell_type": "code",
      "source": [
        "# test set predict\n",
        "pred = pipe.predict(X_test)\n",
        "\n",
        "# submission data와 같은 형태를 만들어 주기 위해 데이터프레임으로 만듬\n",
        "df_finall = pd.DataFrame(pred, columns=['vacc_h1n1_f'])"
      ],
      "metadata": {
        "id": "LxJ4TF-Xv0aL"
      },
      "execution_count": 57,
      "outputs": []
    },
    {
      "cell_type": "code",
      "source": [
        "df_finall.shape     # row 가 28104 개인 것 확인"
      ],
      "metadata": {
        "id": "p2764sLTwVWx",
        "outputId": "a8c46a3f-467d-4c74-a144-09cc98daf368",
        "colab": {
          "base_uri": "https://localhost:8080/"
        }
      },
      "execution_count": 63,
      "outputs": [
        {
          "output_type": "execute_result",
          "data": {
            "text/plain": [
              "(28104, 1)"
            ]
          },
          "metadata": {},
          "execution_count": 63
        }
      ]
    },
    {
      "cell_type": "code",
      "source": [
        "df_finall.to_csv('submission.csv', index_label='id', header=True)"
      ],
      "metadata": {
        "id": "9SzbqBg-wdNC"
      },
      "execution_count": 64,
      "outputs": []
    },
    {
      "cell_type": "markdown",
      "source": [
        "## 🔥 도전과제(Github - Discussion)"
      ],
      "metadata": {
        "id": "0AKCn85yNtC8"
      }
    },
    {
      "cell_type": "markdown",
      "source": [
        "### 4) 2개 이상의 imputer를 사용해 각각 특성-타겟 관계 그래프를 그려 공유하고 다음 질문에 대해 서로 논의해 보세요. \n",
        "- scikit-learn imputer([scikit-learn imputers](https://scikit-learn.org/stable/modules/impute.html))\n",
        "- seaborn plots 사용하여 관심있는 특성들과 target간의 관계를 그래프로 나타내 보세요.\n",
        "- 사용하신 imputer는 각각 어떤 장단점을 갖고 있으며 어떤 상황에서 사용하면 좋을까요? \n",
        "- 만드신 특성-타겟 관계 그래프에서 차이점이 있다면 무엇이고, 왜 그런 차이가 발생했다고 생각하시나요? \n",
        "- [Seaborn \"Categorical estimate\" plots](https://seaborn.pydata.org/tutorial/categorical.html)\n",
        "- [Seaborn linear model plots](https://seaborn.pydata.org/tutorial/regression.html)"
      ],
      "metadata": {
        "id": "OxFu5qVpNtC9"
      }
    },
    {
      "cell_type": "code",
      "execution_count": 20,
      "source": [
        "### 이곳에서 과제를 진행해 주세요 ###"
      ],
      "outputs": [],
      "metadata": {
        "id": "zIAEwmBDNtC9"
      }
    }
  ]
}